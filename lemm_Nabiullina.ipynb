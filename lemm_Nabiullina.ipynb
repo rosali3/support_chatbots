{
 "cells": [
  {
   "cell_type": "markdown",
   "metadata": {},
   "source": [
    "# Лемматайзер\n",
    "Набиуллина Розалия"
   ]
  },
  {
   "cell_type": "code",
   "execution_count": 46,
   "metadata": {},
   "outputs": [
    {
     "name": "stderr",
     "output_type": "stream",
     "text": [
      "[nltk_data] Downloading package wordnet to\n",
      "[nltk_data]     C:\\Users\\rosalie\\AppData\\Roaming\\nltk_data...\n",
      "[nltk_data]   Package wordnet is already up-to-date!\n",
      "[nltk_data] Downloading package omw-1.4 to\n",
      "[nltk_data]     C:\\Users\\rosalie\\AppData\\Roaming\\nltk_data...\n",
      "[nltk_data]   Package omw-1.4 is already up-to-date!\n"
     ]
    },
    {
     "data": {
      "text/plain": [
       "True"
      ]
     },
     "execution_count": 46,
     "metadata": {},
     "output_type": "execute_result"
    }
   ],
   "source": [
    "import nltk\n",
    "from nltk.stem import WordNetLemmatizer\n",
    "from nltk.corpus import wordnet\n",
    "nltk.download('wordnet')\n",
    "nltk.download('omw-1.4')"
   ]
  },
  {
   "cell_type": "code",
   "execution_count": 47,
   "metadata": {},
   "outputs": [],
   "source": [
    "book_name = 'f.txt'\n",
    "f = open(book_name, encoding=\"cp1252\")\n",
    "ant = f.read()\n",
    "tokenizer = nltk.TreebankWordTokenizer() # токенизируем текст с понравившимся токенизатором из прошлого задания\n",
    "lemm = WordNetLemmatizer()"
   ]
  },
  {
   "cell_type": "code",
   "execution_count": 48,
   "metadata": {},
   "outputs": [],
   "source": [
    "words = tokenizer.tokenize(ant)\n",
    "words = [w for w in words if w.isalpha()] # избавляемся от знаков пунктуации и единичных \n",
    "words = [w.lower() for w in words] # преобразуем слова в нижний регистр\n",
    "text = nltk.Text(words) # делаем текст из токенизированных слов"
   ]
  },
  {
   "cell_type": "code",
   "execution_count": 61,
   "metadata": {},
   "outputs": [],
   "source": [
    "lemm_input = [] \n",
    "for word in text[1540:1560]: # лемматизируем определенный отрезок текста(цифорки это символы)\n",
    "    lemm_input.append(word)\n",
    "# lemm_input\n",
    "\n",
    "def nltk_pos_to_lemm(word): # функция чтобы из слов с определенной частью речи(это сделано в посттэге), перевести части речи в понятные для лемматайзера знаки\n",
    "    tag = nltk.pos_tag([word])[0][1][0].upper()\n",
    "    tag_dict = {\"J\": wordnet.ADJ,\n",
    "                \"N\": wordnet.NOUN,\n",
    "                \"V\": wordnet.VERB,\n",
    "                \"R\": wordnet.ADV}\n",
    "\n",
    "    return tag_dict.get(tag, wordnet.NOUN)"
   ]
  },
  {
   "cell_type": "code",
   "execution_count": 63,
   "metadata": {},
   "outputs": [
    {
     "name": "stdout",
     "output_type": "stream",
     "text": [
      "Лемматайзер без определения части речи\n",
      "have got father and shall not have him for a long she did say perhaps never but each silently added\n",
      "Лемматайзер с определением части речи\n",
      "['have', 'get', 'father', 'and', 'shall', 'not', 'have', 'him', 'for', 'a', 'long', 'she', 'do', 'say', 'perhaps', 'never', 'but', 'each', 'silently', 'add']\n"
     ]
    }
   ],
   "source": [
    "print('Лемматайзер без определения части речи')\n",
    "print(' '.join([lemm.lemmatize(w) for w in lemm_input]))\n",
    "\n",
    "print('Лемматайзер с определением части речи')\n",
    "print([lemm.lemmatize(w, nltk_pos_to_lemm(w)) for w in lemm_input])"
   ]
  }
 ],
 "metadata": {
  "kernelspec": {
   "display_name": "Python 3.9.12 ('base')",
   "language": "python",
   "name": "python3"
  },
  "language_info": {
   "codemirror_mode": {
    "name": "ipython",
    "version": 3
   },
   "file_extension": ".py",
   "mimetype": "text/x-python",
   "name": "python",
   "nbconvert_exporter": "python",
   "pygments_lexer": "ipython3",
   "version": "3.9.12"
  },
  "orig_nbformat": 4,
  "vscode": {
   "interpreter": {
    "hash": "8e266e904f44d163170d6b96f3c5a30b92d4c50da2490bcfb0e99115032d4938"
   }
  }
 },
 "nbformat": 4,
 "nbformat_minor": 2
}
