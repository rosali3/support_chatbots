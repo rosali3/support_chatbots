{
 "cells": [
  {
   "cell_type": "markdown",
   "metadata": {},
   "source": [
    "# Стеммеры\n",
    "Набиуллина Розалия"
   ]
  },
  {
   "cell_type": "markdown",
   "metadata": {},
   "source": [
    "# Выводы (перед выполнением, чтобы сразу было видно)\n",
    "Все стеммеры просто отсекают часть слова, но некоторые делают это лучше\n",
    "Lancaster мне больше нравится, потому что он лучше всего и корректнее дает начальную форму слова(по крайне мере very ---> very, а не very ---> veri)\n",
    "\n",
    "**SnowballStemmer** - не меняет форму\n",
    "\n",
    "**PorterStemmer** - в два раза быстрее чем Снежок, но хорошо справляется с тем чтобы убирать множественное число\n",
    "\n",
    "**LancasterStemmer** - такой же по скорости как Портер\n",
    "\n",
    "**RegexpStemmer** - вообще ненужный, потому что помимо того, что нужно расписывать под этот стеммер он еще и хуже остальных"
   ]
  },
  {
   "cell_type": "code",
   "execution_count": 18,
   "metadata": {},
   "outputs": [],
   "source": [
    "import nltk\n",
    "from nltk.tokenize import TreebankWordTokenizer\n",
    "from nltk.stem import PorterStemmer\n",
    "from nltk.stem import SnowballStemmer\n",
    "from nltk.stem import LancasterStemmer\n",
    "from nltk.stem import RegexpStemmer\n"
   ]
  },
  {
   "cell_type": "markdown",
   "metadata": {},
   "source": [
    "### Подготовка для стемминга"
   ]
  },
  {
   "cell_type": "code",
   "execution_count": 19,
   "metadata": {},
   "outputs": [],
   "source": [
    "book_name = 'f.txt'\n",
    "f = open(book_name, encoding=\"cp1252\")\n",
    "ant = f.read()\n",
    "tokenizer = nltk.TreebankWordTokenizer() # токенизируем текст с понравившимся токенизатором из прошлого задания"
   ]
  },
  {
   "cell_type": "code",
   "execution_count": 20,
   "metadata": {},
   "outputs": [],
   "source": [
    "words = tokenizer.tokenize(ant)\n",
    "words = [w for w in words if w.isalpha()] # избавляемся от знаков пунктуации и единичных \n",
    "words = [w.lower() for w in words] # преобразуем слова в нижний регистр\n",
    "text = nltk.Text(words) # делаем текст из токенизированных слов\n",
    "# text "
   ]
  },
  {
   "cell_type": "markdown",
   "metadata": {},
   "source": [
    "### SnowballStemmer"
   ]
  },
  {
   "cell_type": "code",
   "execution_count": 21,
   "metadata": {},
   "outputs": [
    {
     "name": "stdout",
     "output_type": "stream",
     "text": [
      "have ---> have\n",
      "another ---> anoth\n",
      "table ---> tabl\n",
      "bought ---> bought\n",
      "up ---> up\n",
      "the ---> the\n",
      "bouquets ---> bouquet\n",
      "flo ---> flo\n",
      "and ---> and\n",
      "i ---> i\n",
      "ordered ---> order\n",
      "a ---> a\n",
      "every ---> everi\n",
      "one ---> one\n",
      "was ---> was\n",
      "very ---> veri\n",
      "kind ---> kind\n",
      "especially ---> especi\n",
      "the ---> the\n",
      "officers ---> offic\n"
     ]
    }
   ],
   "source": [
    "snowball = SnowballStemmer(language='english')\n",
    "\n",
    "for word in text[1110:1130]:\n",
    "    print(word,\"--->\",snowball.stem(word))"
   ]
  },
  {
   "cell_type": "markdown",
   "metadata": {},
   "source": [
    "### PorterStemmer"
   ]
  },
  {
   "cell_type": "code",
   "execution_count": 22,
   "metadata": {},
   "outputs": [
    {
     "name": "stdout",
     "output_type": "stream",
     "text": [
      "have ---> have\n",
      "another ---> anoth\n",
      "table ---> tabl\n",
      "bought ---> bought\n",
      "up ---> up\n",
      "the ---> the\n",
      "bouquets ---> bouquet\n",
      "flo ---> flo\n",
      "and ---> and\n",
      "i ---> i\n",
      "ordered ---> order\n",
      "a ---> a\n",
      "every ---> everi\n",
      "one ---> one\n",
      "was ---> wa\n",
      "very ---> veri\n",
      "kind ---> kind\n",
      "especially ---> especi\n",
      "the ---> the\n",
      "officers ---> offic\n"
     ]
    }
   ],
   "source": [
    "stemmer = PorterStemmer()\n",
    "\n",
    "for word in text[1110:1130]:\n",
    "    print(word,\"--->\",stemmer.stem(word))"
   ]
  },
  {
   "cell_type": "markdown",
   "metadata": {},
   "source": [
    "### LancasterStemmer"
   ]
  },
  {
   "cell_type": "code",
   "execution_count": 23,
   "metadata": {},
   "outputs": [
    {
     "name": "stdout",
     "output_type": "stream",
     "text": [
      "have ---> hav\n",
      "another ---> anoth\n",
      "table ---> tabl\n",
      "bought ---> bought\n",
      "up ---> up\n",
      "the ---> the\n",
      "bouquets ---> bouquet\n",
      "flo ---> flo\n",
      "and ---> and\n",
      "i ---> i\n",
      "ordered ---> ord\n",
      "a ---> a\n",
      "every ---> every\n",
      "one ---> on\n",
      "was ---> was\n",
      "very ---> very\n",
      "kind ---> kind\n",
      "especially ---> espec\n",
      "the ---> the\n",
      "officers ---> off\n"
     ]
    }
   ],
   "source": [
    "stemmer = LancasterStemmer()\n",
    "\n",
    "for word in text[1110:1130]:\n",
    "    print(word,\"--->\",stemmer.stem(word))"
   ]
  },
  {
   "cell_type": "markdown",
   "metadata": {},
   "source": [
    "### RegexpStemmer"
   ]
  },
  {
   "cell_type": "code",
   "execution_count": 24,
   "metadata": {},
   "outputs": [
    {
     "name": "stdout",
     "output_type": "stream",
     "text": [
      "have ---> hav\n",
      "another ---> anoth\n",
      "table ---> tabl\n",
      "bought ---> bought\n",
      "up ---> up\n",
      "the ---> the\n",
      "bouquets ---> bouquet\n",
      "flo ---> flo\n",
      "and ---> and\n",
      "i ---> i\n",
      "ordered ---> ord\n",
      "a ---> a\n",
      "every ---> every\n",
      "one ---> on\n",
      "was ---> was\n",
      "very ---> very\n",
      "kind ---> kind\n",
      "especially ---> espec\n",
      "the ---> the\n",
      "officers ---> off\n"
     ]
    }
   ],
   "source": [
    "regexp = RegexpStemmer('ing$|s$|e$|able$', min=4)\n",
    "for word in text[1110:1130]:\n",
    "    print(word,\"--->\",stemmer.stem(word))"
   ]
  }
 ],
 "metadata": {
  "kernelspec": {
   "display_name": "Python 3.9.12 ('base')",
   "language": "python",
   "name": "python3"
  },
  "language_info": {
   "codemirror_mode": {
    "name": "ipython",
    "version": 3
   },
   "file_extension": ".py",
   "mimetype": "text/x-python",
   "name": "python",
   "nbconvert_exporter": "python",
   "pygments_lexer": "ipython3",
   "version": "3.9.12"
  },
  "orig_nbformat": 4,
  "vscode": {
   "interpreter": {
    "hash": "8e266e904f44d163170d6b96f3c5a30b92d4c50da2490bcfb0e99115032d4938"
   }
  }
 },
 "nbformat": 4,
 "nbformat_minor": 2
}
